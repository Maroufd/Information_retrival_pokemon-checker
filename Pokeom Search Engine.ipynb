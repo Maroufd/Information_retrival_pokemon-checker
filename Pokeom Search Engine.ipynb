{
 "cells": [
  {
   "cell_type": "markdown",
   "id": "37ed052d",
   "metadata": {},
   "source": [
    "# Data Preperation\n",
    "\n",
    "Since images differ from each other, we need a way to standardize the images, e.g white and transparent backgounds to only white backgrouund. "
   ]
  },
  {
   "cell_type": "code",
   "execution_count": 17,
   "id": "4e685060",
   "metadata": {},
   "outputs": [],
   "source": [
    "#Convert all backgrounds to white\n",
    "def convert_bg_to_white(inp_path, out_path):\n",
    "    img_path = inp_path\n",
    "    for spritePath in list_images(img_path):\n",
    "        image = cv2.imread(spritePath)\n",
    "        image = Image.open(spritePath).convert(\"RGBA\")\n",
    "        new_image = Image.new(\"RGBA\", image.size, \"WHITE\")\n",
    "        new_image.paste(image, mask=image)\n",
    "        new_image.convert(\"RGB\").save(out_path+pokemon.split('\\\\')[1]+\".png\")\n",
    "        return "
   ]
  },
  {
   "cell_type": "markdown",
   "id": "aba13d69",
   "metadata": {},
   "source": [
    "# Shape Discriptor \n",
    "\n",
    "This Discriptor finds and compares Pokemon Images based on shape. "
   ]
  },
  {
   "cell_type": "code",
   "execution_count": 31,
   "id": "6961559a",
   "metadata": {},
   "outputs": [
    {
     "name": "stdout",
     "output_type": "stream",
     "text": [
      "Import sucessfull.\n"
     ]
    }
   ],
   "source": [
    "#Imports\n",
    "try: \n",
    "    from imutils.paths import list_images\n",
    "    from matplotlib import pyplot as plt\n",
    "    from scipy.spatial import distance as dist\n",
    "    from PIL import Image\n",
    "    import pickle, imutils, cv2, mahotas \n",
    "    import numpy as np\n",
    "    print(\"Import sucessfull.\")\n",
    "except :\n",
    "    print(\"Error occured.\")"
   ]
  },
  {
   "cell_type": "markdown",
   "id": "a3cc5bb7",
   "metadata": {},
   "source": [
    "Functions used for the process of creating an shape discriptor and indexing the outcome. \n",
    "\n",
    "1.) img_to_gs_shape: This function takes a image as input, and preprocessing it. Outcome is a black and white segmented image.<br/>\n",
    "2.) img_to_index: This function loops over all the pokemon database. With the use of img_to_gs_shape() all pokemons are described based on their outline and returned. The described pokemon is indexed in a dictionary where the pokemon acts as key. After all pokemon are indexed, the index is saved to a file "
   ]
  },
  {
   "cell_type": "code",
   "execution_count": 27,
   "id": "19be4230",
   "metadata": {},
   "outputs": [],
   "source": [
    "# Segmentation of the image\n",
    "def img_to_gs_shape(img): \n",
    "        desc = ZernikeMoments(33)\n",
    "        image = cv2.cvtColor(img, cv2.COLOR_BGR2GRAY)\n",
    "        # pad the image with extra white pixels to ensure the\n",
    "        # edges of the pokemon are not up against the borders\n",
    "        # of the image\n",
    "        image = cv2.copyMakeBorder(image, 15, 15, 15, 15,\n",
    "            cv2.BORDER_CONSTANT, value = 255)\n",
    "        # invert the image and threshold it\n",
    "        thresh = cv2.bitwise_not(image)\n",
    "        thresh[thresh > 0] = 255\n",
    "        # initialize the outline image, find the outermost\n",
    "        # contours (the outline) of the pokemone, then draw\n",
    "        outline = np.zeros(image.shape, dtype = \"uint8\")\n",
    "        cnts = cv2.findContours(thresh.copy(), cv2.RETR_EXTERNAL,cv2.CHAIN_APPROX_SIMPLE)\n",
    "        cnts = imutils.grab_contours(cnts)\n",
    "        cnts = sorted(cnts, key = cv2.contourArea, reverse = True)[0]\n",
    "        cv2.drawContours(outline, [cnts], -1, 255, -1)\n",
    "        return mahotas.features.zernike_moments(outline, 33)\n",
    "\n",
    "#Indexing outlined pokemons and saves them to an index file. \n",
    "def img_to_index(inp_path, out_path): \n",
    "    for spritePath in list_images(inp_path):\n",
    "    # parse out the pokemon name, then load the image and\n",
    "    # convert it to grayscale\n",
    "        index = dict()\n",
    "        pokemon = spritePath[spritePath.rfind(\"/\") + 1:].replace(\".png\", \"\")\n",
    "        image = cv2.imread(spritePath)\n",
    "        index[pokemon] = img_to_gs_shape(image)\n",
    "        f = open(out_path+\"./index.cpickle\", \"wb\")\n",
    "        f.write(pickle.dumps(index))\n",
    "        f.close()\n",
    "        return "
   ]
  },
  {
   "cell_type": "markdown",
   "id": "bff55c95",
   "metadata": {},
   "source": [
    "This section aims on comparing and finding pokemons based on new insert images. Therefore the user has to specify an pokemon and based on the already created index, the most similiar pokemon (distance-wise) is outputed. "
   ]
  },
  {
   "cell_type": "code",
   "execution_count": 32,
   "id": "c4bedb97",
   "metadata": {},
   "outputs": [
    {
     "data": {
      "text/plain": [
       "(0.0, 'greyscaled\\\\pikachu')"
      ]
     },
     "execution_count": 32,
     "metadata": {},
     "output_type": "execute_result"
    }
   ],
   "source": [
    "###ANNOTATIONS -> For performance reason check if index can be init once\n",
    "def search(index, queryFeatures):\n",
    "    # initialize our dictionary of results\n",
    "    results = {}\n",
    "    # loop over the images in our index\n",
    "    for (k, features) in index.items():\n",
    "        # compute the distance between the query features\n",
    "        # and features in our index, then update the results\n",
    "        d = dist.euclidean(queryFeatures, features)\n",
    "        results[k] = d\n",
    "    # sort our results, where a smaller distance indicates\n",
    "    # higher similarity\n",
    "    results = sorted([(v, k) for (k, v) in results.items()])\n",
    "    # return the results\n",
    "    return results\n",
    "\n",
    "def find_pokemon(inp_path, idx_path):\n",
    "    image = cv2.imread(inp_path)\n",
    "    image = cv2.resize(image, [120,120])\n",
    "    queryFeatures = img_to_gs_shape(image)\n",
    "    index = open(idx_path, \"rb\").read()\n",
    "    index = pickle.loads(index)\n",
    "    results = search(index,queryFeatures)\n",
    "    return results[0]\n",
    "\n",
    "find_pokemon(\"./greyscaled/pikachu.png\", \"./index.cpickle\")"
   ]
  }
 ],
 "metadata": {
  "kernelspec": {
   "display_name": "Python 3",
   "language": "python",
   "name": "python3"
  },
  "language_info": {
   "codemirror_mode": {
    "name": "ipython",
    "version": 3
   },
   "file_extension": ".py",
   "mimetype": "text/x-python",
   "name": "python",
   "nbconvert_exporter": "python",
   "pygments_lexer": "ipython3",
   "version": "3.8.8"
  }
 },
 "nbformat": 4,
 "nbformat_minor": 5
}
