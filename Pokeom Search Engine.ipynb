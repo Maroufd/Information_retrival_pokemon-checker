{
 "cells": [
  {
   "cell_type": "markdown",
   "id": "b4548990",
   "metadata": {},
   "source": [
    "# Imports"
   ]
  },
  {
   "cell_type": "code",
   "execution_count": 31,
   "id": "8c11a175",
   "metadata": {},
   "outputs": [
    {
     "name": "stdout",
     "output_type": "stream",
     "text": [
      "Import sucessfull.\n"
     ]
    }
   ],
   "source": [
    "#Imports\n",
    "try: \n",
    "    from imutils.paths import list_images\n",
    "    from matplotlib import pyplot as plt\n",
    "    from scipy.spatial import distance as dist\n",
    "    from PIL import Image\n",
    "    import pickle, imutils, cv2, mahotas \n",
    "    import numpy as np\n",
    "    print(\"Import sucessfull.\")\n",
    "except :\n",
    "    print(\"Error occured.\")"
   ]
  },
  {
   "cell_type": "markdown",
   "id": "a6d39890",
   "metadata": {},
   "source": [
    "# Data Preperation\n",
    "\n",
    "Since images differ from each other, we need a way to standardize the images, e.g white and transparent backgounds to only white backgrouund. "
   ]
  },
  {
   "cell_type": "code",
   "execution_count": 17,
   "id": "5e1958c0",
   "metadata": {},
   "outputs": [],
   "source": [
    "#Convert all backgrounds to white\n",
    "def convert_bg_to_white(inp_path, out_path):\n",
    "    img_path = inp_path\n",
    "    for spritePath in list_images(img_path):\n",
    "        image = cv2.imread(spritePath)\n",
    "        image = Image.open(spritePath).convert(\"RGBA\")\n",
    "        new_image = Image.new(\"RGBA\", image.size, \"WHITE\")\n",
    "        new_image.paste(image, mask=image)\n",
    "        new_image.convert(\"RGB\").save(out_path+pokemon.split('\\\\')[1]+\".png\")\n",
    "        return "
   ]
  },
  {
   "cell_type": "markdown",
   "id": "816f24c5",
   "metadata": {},
   "source": [
    "#  Discritpors and Indexing  \n",
    "\n",
    "## Colorbased Discriptor ##\n",
    "<br/>\n",
    "This Discriptor find and compare Pokemon Images based on color\n",
    "\n",
    "### Methods of describing and indexing"
   ]
  },
  {
   "cell_type": "code",
   "execution_count": 115,
   "id": "b4e4a189",
   "metadata": {},
   "outputs": [],
   "source": [
    "def img_to_color_hist(image): \n",
    "    image = cv2.cvtColor(image, cv2.COLOR_BGR2RGB)\n",
    "    hist = cv2.calcHist([image], [0, 1, 2], None, [8, 8, 8],[0, 256, 0, 256, 0, 256])\n",
    "    hist = cv2.normalize(hist, hist).flatten()\n",
    "    return hist\n",
    "\n",
    "def img_to_color_index(inp_path, out_path):\n",
    "    index = dict()\n",
    "    for spritePath in list_images(inp_path):\n",
    "    # parse out the pokemon name, then load the image and\n",
    "    # convert it to color  hist\n",
    "        pokemon = spritePath[spritePath.rfind(\"/\") + 1:].replace(\".png\", \"\")\n",
    "        #print(pokemon)-\n",
    "        image = cv2.imread(spritePath)\n",
    "        #print(img_to_color_hist(image))\n",
    "        index[pokemon] = img_to_color_hist(image)\n",
    "    f = open(out_path+\"/cindex.cpickle\", \"wb\")\n",
    "    f.write(pickle.dumps(index))\n",
    "    f.close()\n",
    "    return \n",
    "\n",
    "img_to_color_index(\"./greyscaled\", \"./indexes\")"
   ]
  },
  {
   "cell_type": "markdown",
   "id": "cb57b708",
   "metadata": {},
   "source": [
    "### Methods for comaparison"
   ]
  },
  {
   "cell_type": "code",
   "execution_count": 138,
   "id": "c0059ef8",
   "metadata": {},
   "outputs": [],
   "source": [
    "#methods = cv2.HISTCMP_CHISQR or cv2.HISTCMP_BHATTACHARYYA\n",
    "def search_color_hist(inp_path, idx_path ,method):\n",
    "    results = dict()\n",
    "    image =  cv2.imread(inp_path)\n",
    "    image = cv2.resize(image, [120,120])\n",
    "    img_hist = img_to_color_hist(image) \n",
    "    index = open(idx_path, \"rb\").read()\n",
    "    index = pickle.loads(index)\n",
    "    for hist in index:\n",
    "        results[hist] = cv2.compareHist(img_hist, index[hist], method)\n",
    "    results = sorted([(v, k) for (k, v) in results.items()], reverse = False)[:4]\n",
    "    return results[:4]\n"
   ]
  },
  {
   "cell_type": "code",
   "execution_count": 141,
   "id": "04ecafbe",
   "metadata": {},
   "outputs": [
    {
     "name": "stdout",
     "output_type": "stream",
     "text": [
      "[(0.0, 'greyscaled\\\\pikachu'), (0.06716228993374299, 'greyscaled\\\\fennekin'), (0.07340109095828327, 'greyscaled\\\\joltik'), (0.0763622529318233, 'greyscaled\\\\dunsparce')]\n",
      "_______________________________\n",
      "[(0.0, 'greyscaled\\\\pikachu'), (0.11088218446857463, 'greyscaled\\\\elekid'), (0.13342980775767146, 'greyscaled\\\\kakuna'), (0.13417051308940867, 'greyscaled\\\\sandshrew')]\n"
     ]
    }
   ],
   "source": [
    "print(search_color_hist(\"./greyscaled/pikachu.png\", \"./indexes/cindex.cpickle\", cv2.HISTCMP_CHISQR))\n",
    "print(\"_______________________________\")\n",
    "print(search_color_hist(\"./greyscaled/pikachu.png\", \"./indexes/cindex.cpickle\", cv2.HISTCMP_BHATTACHARYYA))"
   ]
  },
  {
   "cell_type": "code",
   "execution_count": 157,
   "id": "298fb9ca",
   "metadata": {},
   "outputs": [
    {
     "data": {
      "image/png": "[encoded data removed]",
      "text/plain": [
       "<Figure size 432x288 with 2 Axes>"
      ]
     },
     "metadata": {
      "needs_background": "light"
     },
     "output_type": "display_data"
    }
   ],
   "source": [
    "def plot_color_hist(image, title, mask=None):\n",
    "    tmp = cv2.cvtColor(image, cv2.COLOR_BGR2GRAY)\n",
    "    _,alpha = cv2.threshold(tmp,0,255,cv2.THRESH_BINARY)\n",
    "    b, g, r = cv2.split(image) # i removed a\n",
    "    rgba = [b,g,r] # removing background by method 1 https://stackoverflow.com/questions/40527769/removing-black-background-and-make-transparent-from-grabcut-output-in-python-ope\n",
    "    dst = cv2.merge(rgba,3)\n",
    "    chans = cv2.split(dst)\n",
    "    colors = (\"b\", \"g\", \"r\")\n",
    "    \"\"\"\n",
    "    plt.figure()\n",
    "    plt.title(title)\n",
    "    plt.xlabel(\"Bins\")\n",
    "    plt.ylabel(\"# of Pixels\")\n",
    "    \"\"\"\n",
    "    for (chan, color) in zip(chans, colors):\n",
    "        hist = cv2.calcHist([chan], [0], mask, [256], [0, 256])\n",
    "        #plt.plot(hist, color=color)\n",
    "        #plt.xlim([0, 256])\n",
    "        #plt.savefig(fileslocations+'color.png')\n",
    "    return hist\n",
    "\n",
    "\n",
    "fig, axes = plt.subplots(nrows=1, ncols=2)\n",
    "im0 = axes[0].plot(plot_color_hist(image=cv2.imread(\"./images/pikachu.png\"),title=\"pika\"))\n",
    "im1 = axes[1].plot(plot_color_hist(image=cv2.imread(\"./images/onix.png\"),title=\"onix\"))\n",
    "\n"
   ]
  },
  {
   "cell_type": "markdown",
   "id": "99a164b8",
   "metadata": {},
   "source": [
    "## Shape Discriptor ##\n",
    "\n",
    "This Discriptor finds and compares Pokemon Images based on shape. "
   ]
  },
  {
   "cell_type": "markdown",
   "id": "456255c2",
   "metadata": {},
   "source": [
    "Functions used for the process of creating an shape discriptor and indexing the outcome. \n",
    "\n",
    "1.) img_to_gs_shape: This function takes a image as input, and preprocessing it. Outcome is a black and white segmented image.<br/>\n",
    "2.) img_to_index: This function loops over all the pokemon database. With the use of img_to_gs_shape() all pokemons are described based on their outline and returned. The described pokemon is indexed in a dictionary where the pokemon acts as key. After all pokemon are indexed, the index is saved to a file "
   ]
  },
  {
   "cell_type": "code",
   "execution_count": 109,
   "id": "e17ca5f0",
   "metadata": {},
   "outputs": [],
   "source": [
    "# Segmentation of the image\n",
    "def img_to_gs_shape(img): \n",
    "        desc = ZernikeMoments(33)\n",
    "        image = cv2.cvtColor(img, cv2.COLOR_BGR2GRAY)\n",
    "        # pad the image with extra white pixels to ensure the\n",
    "        # edges of the pokemon are not up against the borders\n",
    "        # of the image\n",
    "        image = cv2.copyMakeBorder(image, 15, 15, 15, 15,\n",
    "            cv2.BORDER_CONSTANT, value = 255)\n",
    "        # invert the image and threshold it\n",
    "        thresh = cv2.bitwise_not(image)\n",
    "        thresh[thresh > 0] = 255\n",
    "        # initialize the outline image, find the outermost\n",
    "        # contours (the outline) of the pokemone, then draw\n",
    "        outline = np.zeros(image.shape, dtype = \"uint8\")\n",
    "        cnts = cv2.findContours(thresh.copy(), cv2.RETR_EXTERNAL,cv2.CHAIN_APPROX_SIMPLE)\n",
    "        cnts = imutils.grab_contours(cnts)\n",
    "        cnts = sorted(cnts, key = cv2.contourArea, reverse = True)[0]\n",
    "        cv2.drawContours(outline, [cnts], -1, 255, -1)\n",
    "        return mahotas.features.zernike_moments(outline, 33)\n",
    "\n",
    "#Indexing outlined pokemons and saves them to an index file. \n",
    "def img_to_index(inp_path, out_path): \n",
    "    index = dict()\n",
    "    for spritePath in list_images(inp_path):\n",
    "    # parse out the pokemon name, then load the image and\n",
    "    # convert it to grayscale\n",
    "        pokemon = spritePath[spritePath.rfind(\"/\") + 1:].replace(\".png\", \"\")\n",
    "        image = cv2.imread(spritePath)\n",
    "        index[pokemon] = img_to_gs_shape(image)\n",
    "    f = open(out_path+\"./sindex.cpickle\", \"wb\")\n",
    "    f.write(pickle.dumps(index))\n",
    "    f.close()\n",
    "\n",
    "\n",
    "img_to_index(\"./greyscaled\", \"./indexes\")"
   ]
  },
  {
   "cell_type": "markdown",
   "id": "c0bd5abe",
   "metadata": {},
   "source": [
    "This section aims on comparing and finding pokemons based on new insert images. Therefore the user has to specify an pokemon and based on the already created index, the most similiar pokemon (distance-wise) is outputed. "
   ]
  },
  {
   "cell_type": "code",
   "execution_count": 136,
   "id": "96722489",
   "metadata": {},
   "outputs": [
    {
     "data": {
      "text/plain": [
       "[(0.0, 'greyscaled\\\\pikachu'),\n",
       " (0.13052267477446028, 'greyscaled\\\\frogadier'),\n",
       " (0.14533279354262565, 'greyscaled\\\\scyther'),\n",
       " (0.1549367158601479, 'greyscaled\\\\heracross')]"
      ]
     },
     "execution_count": 136,
     "metadata": {},
     "output_type": "execute_result"
    }
   ],
   "source": [
    "###ANNOTATIONS -> For performance reason check if index can be init once\n",
    "def search_shape_discriptor(index, queryFeatures):\n",
    "    # initialize our dictionary of results\n",
    "    results = {}\n",
    "    # loop over the images in our index\n",
    "    for (k, features) in index.items():\n",
    "        # compute the distance between the query features\n",
    "        # and features in our index, then update the results\n",
    "        d = dist.euclidean(queryFeatures, features)\n",
    "        results[k] = d\n",
    "    # sort our results, where a smaller distance indicates\n",
    "    # higher similarity\n",
    "    results = sorted([(v, k) for (k, v) in results.items()])\n",
    "    # return the results\n",
    "    return results"
   ]
  }
 ],
 "metadata": {
  "kernelspec": {
   "display_name": "Python 3",
   "language": "python",
   "name": "python3"
  },
  "language_info": {
   "codemirror_mode": {
    "name": "ipython",
    "version": 3
   },
   "file_extension": ".py",
   "mimetype": "text/x-python",
   "name": "python",
   "nbconvert_exporter": "python",
   "pygments_lexer": "ipython3",
   "version": "3.8.8"
  }
 },
 "nbformat": 4,
 "nbformat_minor": 5
}
