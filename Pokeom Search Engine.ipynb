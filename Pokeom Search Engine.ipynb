{
 "cells": [
  {
   "cell_type": "markdown",
   "id": "0591c860",
   "metadata": {},
   "source": [
    "# Imports"
   ]
  },
  {
   "cell_type": "code",
   "execution_count": 1,
   "id": "b250fefc",
   "metadata": {},
   "outputs": [
    {
     "name": "stdout",
     "output_type": "stream",
     "text": [
      "Import sucessfull.\n"
     ]
    }
   ],
   "source": [
    "#Imports\n",
    "try: \n",
    "    from imutils.paths import list_images\n",
    "    from matplotlib import pyplot as plt\n",
    "    from scipy.spatial import distance as dist\n",
    "    from PIL import Image\n",
    "    import pickle, imutils, cv2, mahotas \n",
    "    import numpy as np\n",
    "    print(\"Import sucessfull.\")\n",
    "except :\n",
    "    print(\"Error occured.\")"
   ]
  },
  {
   "cell_type": "markdown",
   "id": "ebf6e1d2",
   "metadata": {},
   "source": [
    "# Helper Functions"
   ]
  },
  {
   "cell_type": "code",
   "execution_count": 90,
   "id": "1bd92f49",
   "metadata": {},
   "outputs": [],
   "source": [
    "def store_index(index,name,out_path):\n",
    "    f = open(out_path+\"/\"+name+\".cpickle\", \"wb\")\n",
    "    f.write(pickle.dumps(index))\n",
    "    f.close()\n",
    "\n",
    "def load_index(input_path):\n",
    "    index = open(input_path, \"rb\").read()\n",
    "    index = pickle.loads(index)\n",
    "    return index\n",
    "\n",
    "def load_image(input_path):\n",
    "    image =  cv2.imread(input_path)\n",
    "    image = cv2.resize(image, [120,120])\n",
    "    return image\n",
    "    "
   ]
  },
  {
   "cell_type": "markdown",
   "id": "68de6ea2",
   "metadata": {},
   "source": [
    "# Data Preperation\n",
    "\n",
    "Since images differ from each other, we need a way to standardize the images, e.g white and transparent backgounds to only white backgrouund. "
   ]
  },
  {
   "cell_type": "code",
   "execution_count": 214,
   "id": "75cfcf12",
   "metadata": {},
   "outputs": [],
   "source": [
    "#Convert all backgrounds to white\n",
    "def convert_bg_to_white(inp_path : str, out_path : str):\n",
    "    img_path = inp_path\n",
    "    for spritePath in list_images(img_path):\n",
    "        pokemon = spritePath[spritePath.rfind(\"/\") + 1:].replace(\".png\", \"\")\n",
    "        image = cv2.imread(spritePath)\n",
    "        image = Image.open(spritePath).convert(\"RGBA\")\n",
    "        new_image = Image.new(\"RGBA\", image.size, \"WHITE\")\n",
    "        new_image.paste(image, mask=image)\n",
    "        new_image.convert(\"RGB\").save(out_path+pokemon.split('\\\\')[1]+\".png\")\n",
    "    return \n",
    "\n",
    "convert_bg_to_white(\"./images\",\"./greyscaled/\")"
   ]
  },
  {
   "cell_type": "markdown",
   "id": "e8d8f17f",
   "metadata": {},
   "source": [
    "#  Discritpors and Indexing  \n",
    "\n",
    "## Colorbased Discriptor ##\n",
    "<br/>\n",
    "This Discriptor find and compare Pokemon Images based on color\n",
    "\n",
    "### Methods of describing and indexing\n",
    "\n",
    "#### Color Discriptor"
   ]
  },
  {
   "cell_type": "code",
   "execution_count": 68,
   "id": "a897cfac",
   "metadata": {},
   "outputs": [],
   "source": [
    "def img_to_color_hist(image): \n",
    "    image = cv2.cvtColor(image, cv2.COLOR_BGR2RGB)\n",
    "    hist = cv2.calcHist([image], [0, 1, 2], None, [8, 8, 8],[0, 256, 0, 256, 0, 256])\n",
    "    hist = cv2.normalize(hist, hist).flatten()\n",
    "    return hist\n",
    "\n",
    "def img_to_color_index(inp_path : str, out_path : str):\n",
    "    index = dict()\n",
    "    for spritePath in list_images(inp_path):\n",
    "    # parse out the pokemon name, then load the image and\n",
    "    # convert it to color  hist\n",
    "        pokemon = spritePath[spritePath.rfind(\"/\") + 1:].replace(\".png\", \"\")\n",
    "        #print(pokemon)-\n",
    "        image = cv2.imread(spritePath)\n",
    "        #print(img_to_color_hist(image))\n",
    "        index[pokemon] = img_to_color_hist(image)\n",
    "    store_index(index,\"cindex\",out_path)\n",
    "    return \n",
    "\n",
    "img_to_color_index(\"./greyscaled\", \"./indexes\")"
   ]
  },
  {
   "cell_type": "markdown",
   "id": "b4c59ccb",
   "metadata": {},
   "source": [
    "#### Greyscale Discriptor"
   ]
  },
  {
   "cell_type": "code",
   "execution_count": 75,
   "id": "463d6a64",
   "metadata": {},
   "outputs": [],
   "source": [
    "def img_to_greyscale_hist(image):\n",
    "    image = cv2.cvtColor(image, cv2.COLOR_BGR2GRAY)\n",
    "    hist = cv2.calcHist([image], [0], None, [256], [0, 256])\n",
    "    hist = cv2.normalize(hist, hist).flatten()\n",
    "    return hist\n",
    "\n",
    "def img_to_greyscale_index(inp_path : str, out_path : str):\n",
    "    index = dict()\n",
    "    for spritePath in list_images(inp_path):\n",
    "    # parse out the pokemon name, then load the image and\n",
    "    # convert it to color  hist\n",
    "        pokemon = spritePath[spritePath.rfind(\"/\") + 1:].replace(\".png\", \"\")\n",
    "        #print(pokemon)-\n",
    "        image = cv2.imread(spritePath)\n",
    "        #print(img_to_color_hist(image))\n",
    "        index[pokemon] = img_to_greyscale_hist(image)\n",
    "    store_index(index,\"gindex\",out_path)\n",
    "    return \n",
    "\n",
    "img_to_greyscale_index(\"./greyscaled\", \"./indexes\")"
   ]
  },
  {
   "cell_type": "markdown",
   "id": "b69e6152",
   "metadata": {},
   "source": [
    "#### Shape Discriptor\n",
    "\n",
    "Functions used for the process of creating an shape discriptor and indexing the outcome.\n",
    "\n",
    "1.) img_to_gs_shape: This function takes a image as input, and preprocessing it. Outcome is a black and white segmented image.\n",
    "<br/>\n",
    "2.) img_to_index: This function loops over all the pokemon database. With the use of img_to_gs_shape() all pokemons are described based on their outline and returned. The described pokemon is indexed in a dictionary where the pokemon acts as key. After all pokemon are indexed, the index is saved to a file"
   ]
  },
  {
   "cell_type": "code",
   "execution_count": 98,
   "id": "63d0ab7d",
   "metadata": {},
   "outputs": [],
   "source": [
    "# Segmentation of the image\n",
    "def img_to_gs_shape(img): \n",
    "        image = cv2.cvtColor(img, cv2.COLOR_BGR2GRAY)\n",
    "        # pad the image with extra white pixels to ensure the\n",
    "        # edges of the pokemon are not up against the borders\n",
    "        # of the image\n",
    "        image = cv2.copyMakeBorder(image, 15, 15, 15, 15,\n",
    "            cv2.BORDER_CONSTANT, value = 255)\n",
    "        # invert the image and threshold it\n",
    "        thresh = cv2.bitwise_not(image)\n",
    "        thresh[thresh > 0] = 255\n",
    "        # initialize the outline image, find the outermost\n",
    "        # contours (the outline) of the pokemone, then draw\n",
    "        outline = np.zeros(image.shape, dtype = \"uint8\")\n",
    "        cnts = cv2.findContours(thresh.copy(), cv2.RETR_EXTERNAL,cv2.CHAIN_APPROX_SIMPLE)\n",
    "        cnts = imutils.grab_contours(cnts)\n",
    "        cnts = sorted(cnts, key = cv2.contourArea, reverse = True)[0]\n",
    "        cv2.drawContours(outline, [cnts], -1, 255, -1)\n",
    "        return mahotas.features.zernike_moments(outline, 33)\n",
    "\n",
    "#Indexing outlined pokemons and saves them to an index file. \n",
    "def img_to_index(inp_path, out_path): \n",
    "    index = dict()\n",
    "    for spritePath in list_images(inp_path):\n",
    "    # parse out the pokemon name, then load the image and\n",
    "    # convert it to grayscale\n",
    "        pokemon = spritePath[spritePath.rfind(\"/\") + 1:].replace(\".png\", \"\")\n",
    "        image = cv2.imread(spritePath)\n",
    "        index[pokemon] = img_to_gs_shape(image)\n",
    "    f = open(out_path+\"./sindex.cpickle\", \"wb\")\n",
    "    f.write(pickle.dumps(index))\n",
    "    f.close()\n",
    "\n",
    "\n",
    "img_to_index(\"./greyscaled\", \"./indexes\")"
   ]
  },
  {
   "cell_type": "markdown",
   "id": "f6eae8fc",
   "metadata": {},
   "source": [
    "### Load Indexes"
   ]
  },
  {
   "cell_type": "code",
   "execution_count": 96,
   "id": "44e17239",
   "metadata": {},
   "outputs": [],
   "source": [
    "color_idx = load_index(\"./indexes/cindex.cpickle\")\n",
    "greyscale_idx = load_index(\"./indexes/gindex.cpickle\")\n",
    "shape_idx = load_index(\"./indexes/sindex.cpickle\")"
   ]
  },
  {
   "cell_type": "markdown",
   "id": "4e11a9ce",
   "metadata": {},
   "source": [
    "### Methods for comaparison\n",
    "\n",
    "This section aims on comparing and finding pokemons based on new insert images. Therefore the user has to specify an pokemon and based on the already created index, the most similiar pokemon (distance-wise) is outputed.\n",
    "\n",
    "#### 1) Distance Computation (Euclidean,Manhattan)"
   ]
  },
  {
   "cell_type": "code",
   "execution_count": 130,
   "id": "1ed18379",
   "metadata": {},
   "outputs": [],
   "source": [
    "#Methods dist.euclidean, dist.cityblock\n",
    "def compute_distance(image_hist, index, method):\n",
    "    #Methods dist.euclidean, dist.cityblock\n",
    "    results = {}\n",
    "    for hist in index:\n",
    "        results[hist] = method(image_hist, index[hist])\n",
    "    results = sorted([(v, k) for (k, v) in results.items()])[:4]\n",
    "    return results[:4]"
   ]
  },
  {
   "cell_type": "markdown",
   "id": "bab7b502",
   "metadata": {},
   "source": [
    "#### 2) Histogram Comparison (ChiSquared, Hellinger)"
   ]
  },
  {
   "cell_type": "code",
   "execution_count": 131,
   "id": "f03d872f",
   "metadata": {},
   "outputs": [],
   "source": [
    "#methods = cv2.HISTCMP_CHISQR or cv2.HISTCMP_BHATTACHARYYA\n",
    "def compare_hist(image_hist, index, method):\n",
    "    results = dict()\n",
    "    #Outsource this redundant part\n",
    "    for hist in index:\n",
    "        results[hist] = cv2.compareHist(image_hist, index[hist], method)\n",
    "    results = sorted([(v, k) for (k, v) in results.items()], reverse = False)[:4]\n",
    "    return results[:4]\n"
   ]
  },
  {
   "cell_type": "markdown",
   "id": "03168cbe",
   "metadata": {},
   "source": [
    "#### 3) Shape Comparison"
   ]
  },
  {
   "cell_type": "code",
   "execution_count": 139,
   "id": "6ee4dd6f",
   "metadata": {},
   "outputs": [],
   "source": [
    "def compare_shapes(index, queryFeatures):\n",
    "    # initialize our dictionary of results\n",
    "    results = {}\n",
    "    # loop over the images in our index\n",
    "    for (k, features) in index.items():\n",
    "        # compute the distance between the query features\n",
    "        # and features in our index, then update the results\n",
    "        d = dist.euclidean(queryFeatures, features)\n",
    "        results[k] = d\n",
    "    # sort our results, where a smaller distance indicates\n",
    "    # higher similarity\n",
    "    results = sorted([(v, k) for (k, v) in results.items()])\n",
    "    # return the results\n",
    "    return results[:4]"
   ]
  },
  {
   "cell_type": "code",
   "execution_count": 140,
   "id": "bb7cb7c8",
   "metadata": {},
   "outputs": [
    {
     "name": "stdout",
     "output_type": "stream",
     "text": [
      "1)\n",
      "EUCLIDEAN [(0.0, 'greyscaled\\\\pikachu'), (0.02528550662100315, 'greyscaled\\\\elekid'), (0.0312780998647213, 'greyscaled\\\\electabuzz'), (0.032494425773620605, 'greyscaled\\\\joltik')]\n",
      "_______________________________\n",
      "MANHATTAN [(0.0, 'greyscaled\\\\pikachu'), (0.10429998, 'greyscaled\\\\elekid'), (0.12976454, 'greyscaled\\\\sandshrew'), (0.13559116, 'greyscaled\\\\kakuna')]\n",
      "\n",
      "\n",
      "2)\n",
      "CHISQUARED [(0.0, 'greyscaled\\\\pikachu'), (0.06716228993374299, 'greyscaled\\\\fennekin'), (0.07340109095828327, 'greyscaled\\\\joltik'), (0.0763622529318233, 'greyscaled\\\\dunsparce')]\n",
      "_______________________________\n",
      "HELLINGER [(0.0, 'greyscaled\\\\pikachu'), (0.13340720541537918, 'greyscaled\\\\elekid'), (0.16289544736478384, 'greyscaled\\\\sandshrew'), (0.16799817655745583, 'greyscaled\\\\kakuna')]\n",
      "\n",
      "\n",
      "3)\n",
      "ZERNIKE [(0.0, 'greyscaled\\\\pikachu'), (0.13052267477446028, 'greyscaled\\\\frogadier'), (0.14533279354262565, 'greyscaled\\\\scyther'), (0.1549367158601479, 'greyscaled\\\\heracross')]\n"
     ]
    }
   ],
   "source": [
    "print(\"1)\")\n",
    "print(\"EUCLIDEAN\",compute_distance(img_to_color_hist(load_image(\"./greyscaled/pikachu.png\")),color_idx,dist.euclidean))\n",
    "print(\"_______________________________\")\n",
    "print(\"MANHATTAN\",compute_distance(img_to_greyscale_hist(load_image(\"./greyscaled/pikachu.png\")),greyscale_idx,dist.cityblock))\n",
    "print(\"\\n\")\n",
    "print(\"2)\")\n",
    "print(\"CHISQUARED\",search_color_hist(img_to_color_hist(load_image(\"./greyscaled/pikachu.png\")),color_idx,cv2.HISTCMP_CHISQR))\n",
    "print(\"_______________________________\")\n",
    "print(\"HELLINGER\",search_color_hist(img_to_greyscale_hist(load_image(\"./greyscaled/pikachu.png\")),greyscale_idx,cv2.HISTCMP_BHATTACHARYYA))\n",
    "print(\"\\n\")\n",
    "print(\"3)\")\n",
    "print(\"ZERNIKE\",compare_shapes(shape_idx, img_to_gs_shape(load_image(\"./greyscaled/pikachu.png\"))))\n"
   ]
  },
  {
   "cell_type": "markdown",
   "id": "c84a9847",
   "metadata": {},
   "source": [
    "### Visualisation of Plot Comparison"
   ]
  },
  {
   "cell_type": "code",
   "execution_count": 62,
   "id": "058f176e",
   "metadata": {},
   "outputs": [
    {
     "data": {
      "image/png": "[encoded data removed]",
      "text/plain": [
       "<Figure size 432x288 with 4 Axes>"
      ]
     },
     "metadata": {
      "needs_background": "light"
     },
     "output_type": "display_data"
    }
   ],
   "source": [
    "def plot_color_hist(image, mask=None):\n",
    "    tmp = cv2.cvtColor(image, cv2.COLOR_BGR2GRAY)\n",
    "    _,alpha = cv2.threshold(tmp,0,255,cv2.THRESH_BINARY)\n",
    "    b, g, r  = cv2.split(image) # i removed a\n",
    "    rgba = [b,g,r] # removing background by method 1 https://stackoverflow.com/questions/40527769/removing-black-background-and-make-transparent-from-grabcut-output-in-python-ope\n",
    "    dst = cv2.merge(rgba,3)\n",
    "    chans = cv2.split(dst)\n",
    "    colors = (\"b\", \"g\", \"r\")\n",
    "    \"\"\"\n",
    "    plt.figure()\n",
    "    plt.title(title)\n",
    "    plt.xlabel(\"Bins\")\n",
    "    plt.ylabel(\"# of Pixels\")\n",
    "    \"\"\"\n",
    "    rgb_hist = dict()\n",
    "    for (chan, color) in zip(chans, colors):\n",
    "        hist = cv2.calcHist([chan[np.where(chan < 255,True, False)]], [0], mask, [256], [0, 256])\n",
    "        rgb_hist[color] = hist\n",
    "    return rgb_hist\n",
    "\n",
    "def compare_color_hist(img0_path : str , img1_path : str):\n",
    "    fig, axes = plt.subplots(nrows=2, ncols=2)\n",
    "    im0 = axes[0,0].imshow(cv2.imread(img0_path), aspect='auto')\n",
    "    im1 = axes[0,1].imshow(cv2.imread(img1_path), aspect='auto')\n",
    "    plot0 = plot_color_hist(image=cv2.imread(img0_path))\n",
    "    #print(plot0)\n",
    "    im2 = axes[1,0].plot(plot0[\"b\"],color=('b'))\n",
    "    im2 = axes[1,0].plot(plot0[\"r\"],color=('r'))\n",
    "    im2 = axes[1,0].plot(plot0[\"g\"],color=('g'))\n",
    "    plot1 = plot_color_hist(image=cv2.imread(img1_path))\n",
    "    im3 = axes[1,1].plot(plot1[\"b\"],color=('b'))\n",
    "    im3 = axes[1,1].plot(plot1[\"r\"],color=('r'))\n",
    "    im3 = axes[1,1].plot(plot1[\"g\"],color=('g'))\n",
    "    return\n",
    "\n",
    "compare_color_hist(\"./greyscaled/miltank.png\",\"./greyscaled/onix.png\" )"
   ]
  },
  {
   "cell_type": "code",
   "execution_count": 129,
   "id": "08f4103e",
   "metadata": {},
   "outputs": [
    {
     "data": {
      "image/png": "[encoded data removed]",
      "text/plain": [
       "<Figure size 432x288 with 4 Axes>"
      ]
     },
     "metadata": {
      "needs_background": "light"
     },
     "output_type": "display_data"
    }
   ],
   "source": [
    "def plot_grey_hist(image, mask=None):\n",
    "    gray = cv2.cvtColor(image, cv2.COLOR_BGR2GRAY)\n",
    "    hist = cv2.calcHist([gray[np.where(gray > 0,True, False)]], [0], None, [256], [0, 256])\n",
    "    return hist\n",
    "\n",
    "def compare_grey_hist(img0_path : str , img1_path : str):\n",
    "    fig, axes = plt.subplots(nrows=2, ncols=2)\n",
    "    im0 = axes[0,0].imshow(cv2.cvtColor(cv2.imread(img0_path), cv2.COLOR_BGR2GRAY), aspect='auto')\n",
    "    im1 = axes[0,1].imshow(cv2.cvtColor(cv2.imread(img1_path), cv2.COLOR_BGR2GRAY), aspect='auto')\n",
    "    plot0 = axes[1,0].plot(plot_grey_hist(image=cv2.imread(img0_path)))\n",
    "    plot1 = axes[1,1].plot(plot_grey_hist(image=cv2.imread(img1_path)))\n",
    "    return\n",
    "\n",
    "compare_grey_hist(\"./greyscaled/miltank.png\",\"./greyscaled/onix.png\" )"
   ]
  }
 ],
 "metadata": {
  "kernelspec": {
   "display_name": "Python 3",
   "language": "python",
   "name": "python3"
  },
  "language_info": {
   "codemirror_mode": {
    "name": "ipython",
    "version": 3
   },
   "file_extension": ".py",
   "mimetype": "text/x-python",
   "name": "python",
   "nbconvert_exporter": "python",
   "pygments_lexer": "ipython3",
   "version": "3.8.8"
  }
 },
 "nbformat": 4,
 "nbformat_minor": 5
}
