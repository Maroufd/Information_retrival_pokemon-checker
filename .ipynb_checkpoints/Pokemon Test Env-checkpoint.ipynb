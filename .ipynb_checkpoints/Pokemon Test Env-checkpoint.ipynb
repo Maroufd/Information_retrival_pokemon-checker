{
 "cells": [
  {
   "cell_type": "code",
   "execution_count": 95,
   "id": "89549501",
   "metadata": {},
   "outputs": [],
   "source": [
    "from imutils.paths import list_images\n",
    "import numpy as np\n",
    "import argparse\n",
    "import pickle\n",
    "import imutils\n",
    "import cv2\n",
    "from ZernikeMoments import ZernikeMoments"
   ]
  },
  {
   "cell_type": "code",
   "execution_count": 96,
   "id": "bb777c4e",
   "metadata": {},
   "outputs": [],
   "source": [
    "desc = ZernikeMoments(21)\n",
    "index = {}"
   ]
  },
  {
   "cell_type": "code",
   "execution_count": 76,
   "id": "cde51c61",
   "metadata": {},
   "outputs": [],
   "source": [
    "from matplotlib import pyplot as plt\n",
    "\n",
    "img_path = \"./images\"\n",
    "from PIL import Image\n",
    "import PIL\n",
    "for spritePath in list_images(img_path):\n",
    "    # parse out the pokemon name, then load the image and\n",
    "    # convert it to grayscale\n",
    "    #print(spritePath)\n",
    "    pokemon = spritePath[spritePath.rfind(\"/\") + 1:].replace(\".png\", \"\")\n",
    "    #print(pokemon)\n",
    "    image = cv2.imread(spritePath)\n",
    "    #print(image)\n",
    "\n",
    "\n",
    "    image = Image.open(spritePath).convert(\"RGBA\")\n",
    "    new_image = Image.new(\"RGBA\", image.size, \"WHITE\")\n",
    "    new_image.paste(image, mask=image)\n",
    "\n",
    "    new_image.convert(\"RGB\").save(\"./greyscaled/\"+pokemon.split('\\\\')[1]+\".png\")\n",
    "    \"\"\"\n",
    "    image = cv2.cvtColor(image, cv2.COLOR_BGR2GRAY)\n",
    "        \n",
    "        \n",
    "\n",
    "    #print(image)\n",
    "    # pad the image with extra white pixels to ensure the\n",
    "    # edges of the pokemon are not up against the borders\n",
    "    # of the image\n",
    "    \n",
    "    plt.imshow(image)\n",
    "    plt.show\n",
    "    image = PIL.Image.fromarray(image)\n",
    "    print(pokemon.split('\\\\')[1]+\".png\")\n",
    "    image.save(\"./greyscaled/\"+pokemon.split('\\\\')[1]+\".png\")\n",
    "\n",
    "    \n",
    "    image = cv2.copyMakeBorder(image, 15, 15, 15, 15,\n",
    "    cv2.BORDER_CONSTANT, value = 0)\n",
    "    # invert the image and threshold it\n",
    "    thresh = cv2.bitwise_not(image)\n",
    "    thresh[thresh > 0] = 255\n",
    "    #display(thresh)\n",
    "    #print(type(thresh))\n",
    "    thresh = PIL.Image.fromarray(thresh)\n",
    "    thresh.save(\"./greyscaled/\"+pokemon.split('\\\\')[1]+\".png\")\n",
    "\n",
    "\n",
    "    \"\"\""
   ]
  },
  {
   "cell_type": "code",
   "execution_count": 111,
   "id": "3828d18e",
   "metadata": {},
   "outputs": [
    {
     "data": {
      "text/plain": [
       "'greyscaled\\\\zygarde-50'"
      ]
     },
     "execution_count": 111,
     "metadata": {},
     "output_type": "execute_result"
    }
   ],
   "source": [
    "whitedImages = \"./greyscaled\"\n",
    "# loop over the sprite images\n",
    "for spritePath in list_images(whitedImages):\n",
    "    # parse out the pokemon name, then load the image and\n",
    "    # convert it to grayscale\n",
    "    pokemon = spritePath[spritePath.rfind(\"/\") + 1:].replace(\".png\", \"\")\n",
    "    image = cv2.imread(spritePath)\n",
    "    image = cv2.cvtColor(image, cv2.COLOR_BGR2GRAY)\n",
    "    # pad the image with extra white pixels to ensure the\n",
    "    # edges of the pokemon are not up against the borders\n",
    "    # of the image\n",
    "    image = cv2.copyMakeBorder(image, 15, 15, 15, 15,\n",
    "        cv2.BORDER_CONSTANT, value = 255)\n",
    "    # invert the image and threshold it\n",
    "    thresh = cv2.bitwise_not(image)\n",
    "    thresh[thresh > 0] = 255\n",
    "    #plt.imshow(thresh)\n",
    "    #plt.sho\n",
    "    # initialize the outline image, find the outermost\n",
    "    # contours (the outline) of the pokemone, then draw\n",
    "    # it\n",
    "    outline = np.zeros(image.shape, dtype = \"uint8\")\n",
    "    cnts = cv2.findContours(thresh.copy(), cv2.RETR_EXTERNAL,cv2.CHAIN_APPROX_SIMPLE)\n",
    "    cnts = imutils.grab_contours(cnts)\n",
    "    cnts = sorted(cnts, key = cv2.contourArea, reverse = True)[0]\n",
    "    cv2.drawContours(outline, [cnts], -1, 255, -1)\n",
    "    print(index)\n",
    "    moments = desc.describe(outline)\n",
    "    index[pokemon] = moments\n",
    "pokemon"
   ]
  },
  {
   "cell_type": "code",
   "execution_count": 106,
   "id": "7bf1454e",
   "metadata": {},
   "outputs": [
    {
     "data": {
      "text/plain": [
       "array([[0, 0, 0, ..., 0, 0, 0],\n",
       "       [0, 0, 0, ..., 0, 0, 0],\n",
       "       [0, 0, 0, ..., 0, 0, 0],\n",
       "       ...,\n",
       "       [0, 0, 0, ..., 0, 0, 0],\n",
       "       [0, 0, 0, ..., 0, 0, 0],\n",
       "       [0, 0, 0, ..., 0, 0, 0]], dtype=uint8)"
      ]
     },
     "execution_count": 106,
     "metadata": {},
     "output_type": "execute_result"
    }
   ],
   "source": [
    "# initialize the outline image, find the outermost\n",
    "# contours (the outline) of the pokemone, then draw\n",
    "# it\n",
    "outline = np.zeros(image.shape, dtype = \"uint8\")\n",
    "cnts = cv2.findContours(thresh.copy(), cv2.RETR_EXTERNAL,cv2.CHAIN_APPROX_SIMPLE)\n",
    "cnts = imutils.grab_contours(cnts)\n",
    "cnts = sorted(cnts, key = cv2.contourArea, reverse = True)[0]\n",
    "cv2.drawContours(outline, [cnts], -1, 255, -1)\n"
   ]
  },
  {
   "cell_type": "code",
   "execution_count": 109,
   "id": "21c56ae9",
   "metadata": {},
   "outputs": [
    {
     "name": "stdout",
     "output_type": "stream",
     "text": [
      "{'greyscaled\\\\zygarde-50': array([0.31830989, 0.02367024, 0.02260639, 0.02296683, 0.02080925,\n",
      "       0.02008296, 0.00962348, 0.01353931, 0.01187997, 0.00850479,\n",
      "       0.01476804, 0.01780975, 0.00042887, 0.00224546, 0.01012762,\n",
      "       0.01988353, 0.00743147, 0.00609207, 0.01259177, 0.01309775,\n",
      "       0.00483276, 0.00770554, 0.00854703, 0.01494109, 0.0182097 ])}\n"
     ]
    }
   ],
   "source": [
    "# compute Zernike moments to characterize the shape\n",
    "# of pokemon outline, then update the index\n",
    "print(index)\n",
    "moments = desc.describe(outline)\n",
    "index[pokemon] = moments"
   ]
  },
  {
   "cell_type": "code",
   "execution_count": 110,
   "id": "1acdd9b9",
   "metadata": {},
   "outputs": [
    {
     "data": {
      "text/plain": [
       "array([0.31830989, 0.02367024, 0.02260639, 0.02296683, 0.02080925,\n",
       "       0.02008296, 0.00962348, 0.01353931, 0.01187997, 0.00850479,\n",
       "       0.01476804, 0.01780975, 0.00042887, 0.00224546, 0.01012762,\n",
       "       0.01988353, 0.00743147, 0.00609207, 0.01259177, 0.01309775,\n",
       "       0.00483276, 0.00770554, 0.00854703, 0.01494109, 0.0182097 ])"
      ]
     },
     "execution_count": 110,
     "metadata": {},
     "output_type": "execute_result"
    }
   ],
   "source": [
    "moments.shape\n",
    "moments"
   ]
  },
  {
   "cell_type": "code",
   "execution_count": 82,
   "id": "babff12a",
   "metadata": {},
   "outputs": [],
   "source": [
    "f = open(\"./index.cpickle\", \"wb\")\n",
    "f.write(pickle.dumps(index))\n",
    "f.close()"
   ]
  },
  {
   "cell_type": "code",
   "execution_count": 86,
   "id": "1e69aef7",
   "metadata": {},
   "outputs": [],
   "source": [
    "from Searcher import Searcher\n",
    "import numpy as np\n",
    "import argparse\n",
    "import pickle\n",
    "import imutils\n",
    "import cv2\n",
    "# construct the argument parser and parse the arguments\n",
    "\n",
    "# load the index\n",
    "index = open(\"./index.cpickle\", \"rb\").read()\n",
    "index = pickle.loads(index)"
   ]
  },
  {
   "cell_type": "code",
   "execution_count": 92,
   "id": "583e5822",
   "metadata": {},
   "outputs": [],
   "source": [
    "image = cv2.imread(\"./greyscaled/zubat.png\")\n",
    "image = cv2.cvtColor(image, cv2.COLOR_BGR2GRAY)\n",
    "image = imutils.resize(image, width = 64)\n"
   ]
  },
  {
   "cell_type": "code",
   "execution_count": 93,
   "id": "c0fadfe2",
   "metadata": {
    "scrolled": true
   },
   "outputs": [
    {
     "data": {
      "text/plain": [
       "array([[0, 0, 0, ..., 0, 0, 0],\n",
       "       [0, 0, 0, ..., 0, 0, 0],\n",
       "       [0, 0, 0, ..., 0, 0, 0],\n",
       "       ...,\n",
       "       [0, 0, 0, ..., 0, 0, 0],\n",
       "       [0, 0, 0, ..., 0, 0, 0],\n",
       "       [0, 0, 0, ..., 0, 0, 0]], dtype=uint8)"
      ]
     },
     "execution_count": 93,
     "metadata": {},
     "output_type": "execute_result"
    }
   ],
   "source": [
    "# threshold the image\n",
    "thresh = cv2.adaptiveThreshold(image, 255, cv2.ADAPTIVE_THRESH_MEAN_C,\n",
    "    cv2.THRESH_BINARY_INV, 11, 7)\n",
    "# initialize the outline image, find the outermost\n",
    "# contours (the outline) of the pokemon, then draw\n",
    "# it\n",
    "outline = np.zeros(image.shape, dtype = \"uint8\")\n",
    "cnts = cv2.findContours(thresh.copy(), cv2.RETR_EXTERNAL,\n",
    "    cv2.CHAIN_APPROX_SIMPLE)\n",
    "cnts = imutils.grab_contours(cnts)\n",
    "cnts = sorted(cnts, key = cv2.contourArea, reverse = True)[0]\n",
    "cv2.drawContours(outline, [cnts], -1, 255, -1)"
   ]
  },
  {
   "cell_type": "code",
   "execution_count": 94,
   "id": "a01f3fa2",
   "metadata": {},
   "outputs": [
    {
     "name": "stdout",
     "output_type": "stream",
     "text": [
      "That pokemon is: GREYSCALED\\ZYGARDE-50\n"
     ]
    },
    {
     "data": {
      "text/plain": [
       "-1"
      ]
     },
     "execution_count": 94,
     "metadata": {},
     "output_type": "execute_result"
    }
   ],
   "source": [
    "# compute Zernike moments to characterize the shape of\n",
    "# pokemon outline\n",
    "desc = ZernikeMoments(21)\n",
    "queryFeatures = desc.describe(outline)\n",
    "# perform the search to identify the pokemon\n",
    "searcher = Searcher(index)\n",
    "\n",
    "results = searcher.search(queryFeatures)\n",
    "print(f\"That pokemon is: {results[0][1].upper()}\")\n",
    "# show our images\n",
    "cv2.imshow(\"image\", image)\n",
    "cv2.imshow(\"outline\", outline)\n",
    "cv2.waitKey(0)"
   ]
  },
  {
   "cell_type": "code",
   "execution_count": 102,
   "id": "0a451dda",
   "metadata": {},
   "outputs": [
    {
     "name": "stdout",
     "output_type": "stream",
     "text": [
      "{'images\\\\zygarde-50': array([3.18309886e-01, 4.67550711e-18, 7.09795743e-03, 1.26524258e-16,\n",
      "       4.63273858e-18, 3.34812266e-18, 1.14045122e-02, 1.02330189e-16,\n",
      "       4.89346587e-03, 4.57924450e-18, 3.12150185e-18, 1.11070941e-17,\n",
      "       1.50338433e-02, 8.14478192e-17, 6.63415095e-03, 1.93663514e-17,\n",
      "       2.54635798e-18, 5.36069456e-18, 3.08677798e-18, 7.02845943e-18,\n",
      "       1.76504557e-02, 4.47535040e-17, 8.06051157e-03, 2.11943965e-18,\n",
      "       5.13944149e-03]), 'greyscaled\\\\zygarde-50': array([0.31830989, 0.02367024, 0.02260639, 0.02296683, 0.02080925,\n",
      "       0.02008296, 0.00962348, 0.01353931, 0.01187997, 0.00850479,\n",
      "       0.01476804, 0.01780975, 0.00042887, 0.00224546, 0.01012762,\n",
      "       0.01988353, 0.00743147, 0.00609207, 0.01259177, 0.01309775,\n",
      "       0.00483276, 0.00770554, 0.00854703, 0.01494109, 0.0182097 ])}\n"
     ]
    }
   ],
   "source": [
    "print(searcher.index)"
   ]
  }
 ],
 "metadata": {
  "kernelspec": {
   "display_name": "Python 3",
   "language": "python",
   "name": "python3"
  },
  "language_info": {
   "codemirror_mode": {
    "name": "ipython",
    "version": 3
   },
   "file_extension": ".py",
   "mimetype": "text/x-python",
   "name": "python",
   "nbconvert_exporter": "python",
   "pygments_lexer": "ipython3",
   "version": "3.8.8"
  }
 },
 "nbformat": 4,
 "nbformat_minor": 5
}
