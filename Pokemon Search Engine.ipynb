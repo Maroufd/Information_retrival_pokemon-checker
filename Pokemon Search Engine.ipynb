{
 "cells": [
  {
   "cell_type": "markdown",
   "id": "bc4a7f96",
   "metadata": {},
   "source": [
    "# Pokémon Search Engine \n",
    "\n",
    "#### Motivation: \n",
    "In the last 2 years, the hype around Pokemon has increased rapidly. Driven by Youtubers like Logan Paul, a first edition Charzard can now reach 400,000 or more. (Sparks, 2022)\n",
    "So it's only logical that this hype has also introduced many new people to Pokemon. Each card is characterized by an illustration, but also properties (e.g. Type, Species, Abilities). Therefore, the goal is to provide Pokémon interested people with the appropriate information about the Pokemon, simply by using an image search. "
   ]
  },
  {
   "cell_type": "markdown",
   "id": "0591c860",
   "metadata": {},
   "source": [
    "# General\n",
    "\n",
    "## Imports\n",
    "\n",
    "All required Libraries that are needed throughout the project are imported here."
   ]
  },
  {
   "cell_type": "code",
   "execution_count": 1,
   "id": "b250fefc",
   "metadata": {},
   "outputs": [
    {
     "name": "stdout",
     "output_type": "stream",
     "text": [
      "Import sucessfull.\n"
     ]
    }
   ],
   "source": [
    "try: \n",
    "    from imutils.paths import list_images\n",
    "    from matplotlib import pyplot as plt\n",
    "    from scipy.spatial import distance as dist\n",
    "    from PIL import Image\n",
    "    import pickle, imutils, cv2, mahotas \n",
    "    import numpy as np\n",
    "    print(\"Import sucessfull.\")\n",
    "except :\n",
    "    print(\"Error occured.\")"
   ]
  },
  {
   "cell_type": "markdown",
   "id": "ebf6e1d2",
   "metadata": {},
   "source": [
    "## Helper Functions\n",
    "\n",
    "Process contiously used throughout the process of loading images, aswell as store and load indexes are stored here in order to avoid repeated code and ease the understanding  "
   ]
  },
  {
   "cell_type": "code",
   "execution_count": 2,
   "id": "1bd92f49",
   "metadata": {},
   "outputs": [],
   "source": [
    "def store_index(index,name,out_path):\n",
    "    f = open(out_path+\"/\"+name+\".cpickle\", \"wb\")\n",
    "    f.write(pickle.dumps(index))\n",
    "    f.close()\n",
    "\n",
    "def load_index(input_path):\n",
    "    index = open(input_path, \"rb\").read()\n",
    "    index = pickle.loads(index)\n",
    "    return index\n",
    "\n",
    "def load_image(input_path):\n",
    "    image =  cv2.imread(input_path)\n",
    "    image = cv2.resize(image, [120,120])#,fx=0.1, fy=0.1\n",
    "    return image\n",
    "    "
   ]
  },
  {
   "cell_type": "markdown",
   "id": "68de6ea2",
   "metadata": {},
   "source": [
    "## Data Preperation\n",
    "\n",
    "Since images differ from each other, we need a way to standardize the images, e.g white and transparent backgounds to only white background. "
   ]
  },
  {
   "cell_type": "code",
   "execution_count": 3,
   "id": "75cfcf12",
   "metadata": {},
   "outputs": [],
   "source": [
    "#Convert all backgrounds to white\n",
    "def convert_bg_to_white(inp_path : str, out_path : str):\n",
    "    img_path = inp_path\n",
    "    for spritePath in list_images(img_path):\n",
    "        pokemon = spritePath[spritePath.rfind(\"/\") + 1:].replace(\".png\", \"\")\n",
    "        image = cv2.imread(spritePath)\n",
    "        image = Image.open(spritePath).convert(\"RGBA\")\n",
    "        new_image = Image.new(\"RGBA\", image.size, \"WHITE\")\n",
    "        new_image.paste(image, mask=image)\n",
    "        new_image.convert(\"RGB\").save(out_path+pokemon.split('\\\\')[1]+\".png\")\n",
    "    return \n",
    "\n",
    "convert_bg_to_white(\"./images\",\"./images_prepared/\")"
   ]
  },
  {
   "cell_type": "markdown",
   "id": "9e8ea06f",
   "metadata": {},
   "source": [
    "## Methods of describing and indexing\n",
    "\n",
    "#### Color Discriptor\n",
    "\n",
    "The color dischriber uses the rgb channels of an image to describe in a histogram the nature of an image. "
   ]
  },
  {
   "cell_type": "code",
   "execution_count": 4,
   "id": "a897cfac",
   "metadata": {},
   "outputs": [],
   "source": [
    "def img_to_color_hist(image): \n",
    "    image = cv2.cvtColor(image, cv2.COLOR_BGR2RGB)\n",
    "    hist = cv2.calcHist([image], [0, 1, 2], None, [8, 8, 8],[0, 256, 0, 256, 0, 256])\n",
    "    hist = cv2.normalize(hist, hist).flatten()\n",
    "    return hist\n",
    "\n",
    "def img_to_color_index(inp_path : str, out_path : str):\n",
    "    index = dict()\n",
    "    for spritePath in list_images(inp_path):\n",
    "        pokemon = spritePath[spritePath.rfind(\"/\") + 1:].replace(\".png\", \"\")\n",
    "        image = cv2.imread(spritePath)\n",
    "        index[pokemon] = img_to_color_hist(image)\n",
    "    store_index(index,\"cindex\",out_path)\n",
    "    return \n",
    "\n",
    "img_to_color_index(\"./images_prepared\", \"./indexes\")"
   ]
  },
  {
   "cell_type": "markdown",
   "id": "b4c59ccb",
   "metadata": {},
   "source": [
    "#### Greyscale Discriptor\n",
    "\n",
    "The greyscale discriptor uses the pixel intensities and a histogram to describe the nature of an image"
   ]
  },
  {
   "cell_type": "code",
   "execution_count": 5,
   "id": "463d6a64",
   "metadata": {},
   "outputs": [],
   "source": [
    "def img_to_greyscale_hist(image):\n",
    "    image = cv2.cvtColor(image, cv2.COLOR_BGR2GRAY)\n",
    "    hist = cv2.calcHist([image], [0], None, [256], [0, 256])\n",
    "    hist = cv2.normalize(hist, hist).flatten()\n",
    "    return hist\n",
    "\n",
    "def img_to_greyscale_index(inp_path : str, out_path : str):\n",
    "    index = dict()\n",
    "    for spritePath in list_images(inp_path):\n",
    "        pokemon = spritePath[spritePath.rfind(\"/\") + 1:].replace(\".png\", \"\")\n",
    "        image = cv2.imread(spritePath)\n",
    "        index[pokemon] = img_to_greyscale_hist(image)\n",
    "    store_index(index,\"gindex\",out_path)\n",
    "    return \n",
    "\n",
    "img_to_greyscale_index(\"./images_prepared\", \"./indexes\")"
   ]
  },
  {
   "cell_type": "markdown",
   "id": "b69e6152",
   "metadata": {},
   "source": [
    "#### Shape Discriptor\n",
    "\n",
    "Functions used for the process of creating an shape discriptor and indexing the outcome.\n",
    "\n",
    "1.) img_to_gs_shape: This function takes a image as input, and preprocessing it. Outcome is a black and white segmented image.\n",
    "<br/>\n",
    "2.) img_to_index: This function loops over all the pokemon database. With the use of img_to_gs_shape() all pokemons are described based on their outline and returned. The described pokemon is indexed in a dictionary where the pokemon acts as key. After all pokemon are indexed, the index is saved to a file"
   ]
  },
  {
   "cell_type": "code",
   "execution_count": 6,
   "id": "63d0ab7d",
   "metadata": {},
   "outputs": [],
   "source": [
    "# Segmentation of the image\n",
    "# https://pyimagesearch.com/2014/04/07/building-pokedex-python-indexing-sprites-using-shape-descriptors-step-3-6/\n",
    "def img_to_gs_shape(img): \n",
    "        image = cv2.cvtColor(img, cv2.COLOR_BGR2GRAY)\n",
    "        image = cv2.copyMakeBorder(image, 15, 15, 15, 15,\n",
    "            cv2.BORDER_CONSTANT, value = 255)\n",
    "        thresh = cv2.bitwise_not(image)\n",
    "        thresh[thresh > 0] = 255\n",
    "        outline = np.zeros(image.shape, dtype = \"uint8\")\n",
    "        cnts = cv2.findContours(thresh.copy(), cv2.RETR_EXTERNAL,cv2.CHAIN_APPROX_SIMPLE)\n",
    "        cnts = imutils.grab_contours(cnts)\n",
    "        cnts = sorted(cnts, key = cv2.contourArea, reverse = True)[0]\n",
    "        cv2.drawContours(outline, [cnts], -1, 255, -1)\n",
    "        return mahotas.features.zernike_moments(outline, 33)\n",
    "\n",
    "#Indexing outlined pokemons and saves them to an index file. \n",
    "def img_to_index(inp_path, out_path): \n",
    "    index = dict()\n",
    "    for spritePath in list_images(inp_path):\n",
    "        pokemon = spritePath[spritePath.rfind(\"/\") + 1:].replace(\".png\", \"\")\n",
    "        image = cv2.imread(spritePath)\n",
    "        index[pokemon] = img_to_gs_shape(image)\n",
    "    store_index(index,\"sindex\",out_path)\n",
    "\n",
    "img_to_index(\"./images_prepared\", \"./indexes\")"
   ]
  },
  {
   "cell_type": "markdown",
   "id": "f6eae8fc",
   "metadata": {},
   "source": [
    "### Load Indexes"
   ]
  },
  {
   "cell_type": "code",
   "execution_count": 7,
   "id": "44e17239",
   "metadata": {},
   "outputs": [],
   "source": [
    "color_idx = load_index(\"./indexes/cindex.cpickle\")\n",
    "greyscale_idx = load_index(\"./indexes/gindex.cpickle\")\n",
    "shape_idx = load_index(\"./indexes/sindex.cpickle\")"
   ]
  },
  {
   "cell_type": "markdown",
   "id": "4e11a9ce",
   "metadata": {},
   "source": [
    "## Methods for comaparison\n",
    "\n",
    "This section aims on comparing and finding pokemons based on new insert images. Therefore the user has to specify an pokemon and based on the already created index, the most similiar pokemon (distance-wise) is outputed.\n",
    "\n",
    "#### 1) Distance Computation (Euclidean,Manhattan)"
   ]
  },
  {
   "cell_type": "code",
   "execution_count": 8,
   "id": "1ed18379",
   "metadata": {},
   "outputs": [],
   "source": [
    "#Methods dist.euclidean, dist.cityblock\n",
    "def compute_distance(image_hist, index, method):\n",
    "    results = {}\n",
    "    for hist in index:\n",
    "        results[hist] = method(image_hist, index[hist])\n",
    "    results = sorted([(v, k) for (k, v) in results.items()])[:4]\n",
    "    return results[:4]"
   ]
  },
  {
   "cell_type": "markdown",
   "id": "bab7b502",
   "metadata": {},
   "source": [
    "#### 2) Histogram Comparison (ChiSquared, Hellinger)"
   ]
  },
  {
   "cell_type": "code",
   "execution_count": 9,
   "id": "f03d872f",
   "metadata": {},
   "outputs": [],
   "source": [
    "#methods = cv2.HISTCMP_CHISQR or cv2.HISTCMP_BHATTACHARYYA\n",
    "def compare_hist(image_hist, index, method):\n",
    "    results = dict()\n",
    "    #Outsource this redundant part\n",
    "    for hist in index:\n",
    "        results[hist] = cv2.compareHist(image_hist, index[hist], method)\n",
    "    results = sorted([(v, k) for (k, v) in results.items()], reverse = False)[:4]\n",
    "    return results[:4]"
   ]
  },
  {
   "cell_type": "markdown",
   "id": "03168cbe",
   "metadata": {},
   "source": [
    "#### 3) Shape Comparison"
   ]
  },
  {
   "cell_type": "code",
   "execution_count": 10,
   "id": "6ee4dd6f",
   "metadata": {},
   "outputs": [],
   "source": [
    "def compare_shapes(index, queryFeatures):\n",
    "    # initialize our dictionary of results\n",
    "    results = {}\n",
    "    for (k, features) in index.items():\n",
    "        d = dist.euclidean(queryFeatures, features)\n",
    "        results[k] = d\n",
    "    results = sorted([(v, k) for (k, v) in results.items()])\n",
    "    # return the results\n",
    "    return results[:4]"
   ]
  },
  {
   "cell_type": "code",
   "execution_count": 11,
   "id": "bb7cb7c8",
   "metadata": {},
   "outputs": [
    {
     "name": "stdout",
     "output_type": "stream",
     "text": [
      "1)\n",
      "EUCLIDEAN [(0.0, 'images_prepared\\\\pikachu'), (0.02528550662100315, 'images_prepared\\\\elekid'), (0.0312780998647213, 'images_prepared\\\\electabuzz'), (0.032494425773620605, 'images_prepared\\\\joltik')]\n",
      "_______________________________\n",
      "MANHATTAN [(0.0, 'images_prepared\\\\pikachu'), (0.10429998, 'images_prepared\\\\elekid'), (0.12976454, 'images_prepared\\\\sandshrew'), (0.13559116, 'images_prepared\\\\kakuna')]\n",
      "\n",
      "\n",
      "2)\n",
      "CHISQUARED [(0.0, 'images_prepared\\\\pikachu'), (0.06716228993374299, 'images_prepared\\\\fennekin'), (0.07340109095828327, 'images_prepared\\\\joltik'), (0.0763622529318233, 'images_prepared\\\\dunsparce')]\n",
      "_______________________________\n",
      "HELLINGER [(0.0, 'images_prepared\\\\pikachu'), (0.13340720541537918, 'images_prepared\\\\elekid'), (0.16289544736478384, 'images_prepared\\\\sandshrew'), (0.16799817655745583, 'images_prepared\\\\kakuna')]\n",
      "\n",
      "\n",
      "3)\n",
      "ZERNIKE [(0.0, 'images_prepared\\\\pikachu'), (0.13052267477446028, 'images_prepared\\\\frogadier'), (0.14533279354262565, 'images_prepared\\\\scyther'), (0.1549367158601479, 'images_prepared\\\\heracross')]\n"
     ]
    }
   ],
   "source": [
    "def print_res(path):\n",
    "    print(\"1)\")\n",
    "    print(\"EUCLIDEAN\",compute_distance(img_to_color_hist(load_image(f\"./{path}.png\")),color_idx,dist.euclidean))\n",
    "    print(\"_______________________________\")\n",
    "    print(\"MANHATTAN\",compute_distance(img_to_greyscale_hist(load_image(f\"./{path}.png\")),greyscale_idx,dist.cityblock))\n",
    "    print(\"\\n\")\n",
    "    print(\"2)\")\n",
    "    print(\"CHISQUARED\",compare_hist(img_to_color_hist(load_image(f\"./{path}.png\")),color_idx,cv2.HISTCMP_CHISQR))\n",
    "    print(\"_______________________________\")\n",
    "    print(\"HELLINGER\",compare_hist(img_to_greyscale_hist(load_image(f\"./{path}.png\")),greyscale_idx,cv2.HISTCMP_BHATTACHARYYA))\n",
    "    print(\"\\n\")\n",
    "    print(\"3)\")\n",
    "    print(\"ZERNIKE\",compare_shapes(shape_idx, img_to_gs_shape(load_image(f\"./{path}.png\"))))\n",
    "\n",
    "print_res(\"/images_prepared/pikachu\")\n"
   ]
  },
  {
   "cell_type": "markdown",
   "id": "c84a9847",
   "metadata": {},
   "source": [
    "### Visualisation of Plot Comparison"
   ]
  },
  {
   "cell_type": "code",
   "execution_count": 12,
   "id": "058f176e",
   "metadata": {},
   "outputs": [
    {
     "data": {
      "image/png": "[encoded data removed]",
      "text/plain": [
       "<Figure size 432x288 with 4 Axes>"
      ]
     },
     "metadata": {
      "needs_background": "light"
     },
     "output_type": "display_data"
    }
   ],
   "source": [
    "def plot_color_hist(image, mask=None):\n",
    "    tmp = cv2.cvtColor(image, cv2.COLOR_BGR2GRAY)\n",
    "    _,alpha = cv2.threshold(tmp,0,255,cv2.THRESH_BINARY)\n",
    "    b, g, r  = cv2.split(image) # i removed a\n",
    "    rgba = [b,g,r] # removing background by method 1 https://stackoverflow.com/questions/40527769/removing-black-background-and-make-transparent-from-grabcut-output-in-python-ope\n",
    "    dst = cv2.merge(rgba,3)\n",
    "    chans = cv2.split(dst)\n",
    "    colors = (\"b\", \"g\", \"r\")\n",
    "    rgb_hist = dict()\n",
    "    for (chan, color) in zip(chans, colors):\n",
    "        hist = cv2.calcHist([chan[np.where(chan < 255,True, False)]], [0], mask, [256], [0, 256])\n",
    "        rgb_hist[color] = hist\n",
    "    return rgb_hist\n",
    "\n",
    "def compare_color_hist(img0_path : str , img1_path : str):\n",
    "    fig, axes = plt.subplots(nrows=2, ncols=2)\n",
    "    im0 = axes[0,0].imshow(load_image(img0_path), aspect='auto')\n",
    "    im1 = axes[0,1].imshow(load_image(img1_path), aspect='auto')\n",
    "    plot0 = plot_color_hist(image=load_image(img0_path))\n",
    "    #print(plot0)\n",
    "    im2 = axes[1,0].plot(plot0[\"b\"],color=('b'))\n",
    "    im2 = axes[1,0].plot(plot0[\"r\"],color=('r'))\n",
    "    im2 = axes[1,0].plot(plot0[\"g\"],color=('g'))\n",
    "    plot1 = plot_color_hist(image=load_image(img1_path))\n",
    "    im3 = axes[1,1].plot(plot1[\"b\"],color=('b'))\n",
    "    im3 = axes[1,1].plot(plot1[\"r\"],color=('r'))\n",
    "    im3 = axes[1,1].plot(plot1[\"g\"],color=('g'))\n",
    "#     return\n",
    "\n",
    "compare_color_hist(\"./images_prepared/raichu.png\",\"./images_prepared/pikachu.png\" )"
   ]
  },
  {
   "cell_type": "code",
   "execution_count": 13,
   "id": "08f4103e",
   "metadata": {},
   "outputs": [
    {
     "data": {
      "image/png": "[encoded data removed]",
      "text/plain": [
       "<Figure size 432x288 with 4 Axes>"
      ]
     },
     "metadata": {
      "needs_background": "light"
     },
     "output_type": "display_data"
    }
   ],
   "source": [
    "def plot_grey_hist(image, mask=None):\n",
    "    gray = cv2.cvtColor(image, cv2.COLOR_BGR2GRAY)\n",
    "    hist = cv2.calcHist([gray[np.where(gray > 0,True, False)]], [0], None, [256], [0, 256])\n",
    "    return hist\n",
    "\n",
    "def compare_grey_hist(img0_path : str , img1_path : str):\n",
    "    fig, axes = plt.subplots(nrows=2, ncols=2)\n",
    "    im0 = axes[0,0].imshow(cv2.cvtColor(cv2.imread(img0_path), cv2.COLOR_BGR2GRAY), aspect='auto')\n",
    "    im1 = axes[0,1].imshow(cv2.cvtColor(cv2.imread(img1_path), cv2.COLOR_BGR2GRAY), aspect='auto')\n",
    "    plot0 = axes[1,0].plot(plot_grey_hist(image=load_image(img0_path)))\n",
    "    plot1 = axes[1,1].plot(plot_grey_hist(image=load_image(img1_path)))\n",
    "    return\n",
    "\n",
    "compare_grey_hist(\"./images_prepared/raichu.png\",\"./images_prepared/pikachu.png\" )"
   ]
  }
 ],
 "metadata": {
  "kernelspec": {
   "display_name": "Python 3",
   "language": "python",
   "name": "python3"
  },
  "language_info": {
   "codemirror_mode": {
    "name": "ipython",
    "version": 3
   },
   "file_extension": ".py",
   "mimetype": "text/x-python",
   "name": "python",
   "nbconvert_exporter": "python",
   "pygments_lexer": "ipython3",
   "version": "3.8.8"
  }
 },
 "nbformat": 4,
 "nbformat_minor": 5
}
